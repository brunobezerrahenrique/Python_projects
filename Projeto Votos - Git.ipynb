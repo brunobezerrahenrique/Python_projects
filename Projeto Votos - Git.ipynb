{
 "cells": [
  {
   "cell_type": "code",
   "execution_count": 42,
   "metadata": {},
   "outputs": [
    {
     "name": "stdout",
     "output_type": "stream",
     "text": [
      "O vencedor do pleito é o Homer com o número de votos de: 4  e em segundo lugar o candidato Bart com o número de votos 1\n"
     ]
    }
   ],
   "source": [
    "#Criação das variaveis globais (listas)\n",
    "votos_Bart = [] #armazena os votos do Bart\n",
    "votos_Homer = [] #armazena os votos do Homer\n",
    "votos_Nulos = [] #armazena os votos nulos\n",
    "\n",
    "#Criação da função que recebe os valor da votação, no nosso caso, serão solicitados 5 votos do usuario\n",
    "def votacao():\n",
    "   \n",
    "    for i in range(5):\n",
    "        contagem = int(input(\"Digite seu voto: 1 - Bart | 2 - Homer\"))\n",
    "        if contagem == 1:\n",
    "            votos_Bart.append(contagem) #recebe os votos do Bart e agrega a lista\n",
    "        elif contagem ==2:\n",
    "            votos_Homer.append(contagem) #recebe os votos do Homer e agrega a lista\n",
    "        elif contagem != 1 or contagem != 2: #recebe os votos diferentes de 1 ou 2\n",
    "            votos_Nulos.append(contagem)\n",
    "\n",
    "#Criação da função que irá contar os votos e declarar o vencedor do pleito ou sugerir outra solução para o pleito\n",
    "def contagem():\n",
    "#Avalia se os candidatos receberam votos e se foi empate\n",
    "    if len(votos_Bart) > 0 and len(votos_Homer) > 0 and len(votos_Bart) == len(votos_Homer):  \n",
    "         print(f\"Votação empatada! Novo pleito deverá ser convocado! Com o total de voto do candidato Homer {len(votos_Homer)} e Bart {len(votos_Bart)}\")\n",
    "#Avalia se os candidatos não receberam votos e com isso a eleição é indefinida\n",
    "    elif len(votos_Homer) == 0 and len(votos_Bart) ==0:\n",
    "         print(f\"Eleição indefinida! Novo pleito deverá ser convocado! Com o total de voto do candidato Homer {len(votos_Homer)} e Bart {len(votos_Bart)}\")\n",
    "#Vencedor Homer  \n",
    "    elif len(votos_Bart) > len(votos_Homer):\n",
    "        print(f\"O vencedor do pleito é o Bart com o número de votos de: {len(votos_Bart)} e em segundo lugar o candidato Homer com o número de votos {len(votos_Homer)}\")\n",
    "#Vencedor Bart\n",
    "    elif len(votos_Homer) > len(votos_Bart):\n",
    "        print(f\"O vencedor do pleito é o Homer com o número de votos de: {len(votos_Homer)}  e em segundo lugar o candidato Bart com o número de votos {len(votos_Bart)}\")\n",
    "\n",
    "votacao()\n",
    "contagem()\n"
   ]
  }
 ],
 "metadata": {
  "kernelspec": {
   "display_name": "Python 3",
   "language": "python",
   "name": "python3"
  },
  "language_info": {
   "codemirror_mode": {
    "name": "ipython",
    "version": 3
   },
   "file_extension": ".py",
   "mimetype": "text/x-python",
   "name": "python",
   "nbconvert_exporter": "python",
   "pygments_lexer": "ipython3",
   "version": "3.6.6"
  }
 },
 "nbformat": 4,
 "nbformat_minor": 2
}
