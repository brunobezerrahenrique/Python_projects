{
 "cells": [
  {
   "cell_type": "code",
   "execution_count": 1,
   "metadata": {},
   "outputs": [
    {
     "name": "stdout",
     "output_type": "stream",
     "text": [
      "Collecting nltk\n",
      "  Obtaining dependency information for nltk from https://files.pythonhosted.org/packages/4d/66/7d9e26593edda06e8cb531874633f7c2372279c3b0f46235539fe546df8b/nltk-3.9.1-py3-none-any.whl.metadata\n",
      "  Downloading nltk-3.9.1-py3-none-any.whl.metadata (2.9 kB)\n",
      "Collecting click (from nltk)\n",
      "  Obtaining dependency information for click from https://files.pythonhosted.org/packages/7e/d4/7ebdbd03970677812aac39c869717059dbb71a4cfc033ca6e5221787892c/click-8.1.8-py3-none-any.whl.metadata\n",
      "  Downloading click-8.1.8-py3-none-any.whl.metadata (2.3 kB)\n",
      "Requirement already satisfied: joblib in c:\\users\\bruno\\appdata\\local\\programs\\python\\python312\\lib\\site-packages (from nltk) (1.4.2)\n",
      "Collecting regex>=2021.8.3 (from nltk)\n",
      "  Obtaining dependency information for regex>=2021.8.3 from https://files.pythonhosted.org/packages/38/ec/ad2d7de49a600cdb8dd78434a1aeffe28b9d6fc42eb36afab4a27ad23384/regex-2024.11.6-cp312-cp312-win_amd64.whl.metadata\n",
      "  Downloading regex-2024.11.6-cp312-cp312-win_amd64.whl.metadata (41 kB)\n",
      "     ---------------------------------------- 0.0/41.5 kB ? eta -:--:--\n",
      "     --------- ------------------------------ 10.2/41.5 kB ? eta -:--:--\n",
      "     -------------------------------------- 41.5/41.5 kB 666.1 kB/s eta 0:00:00\n",
      "Collecting tqdm (from nltk)\n",
      "  Obtaining dependency information for tqdm from https://files.pythonhosted.org/packages/d0/30/dc54f88dd4a2b5dc8a0279bdd7270e735851848b762aeb1c1184ed1f6b14/tqdm-4.67.1-py3-none-any.whl.metadata\n",
      "  Downloading tqdm-4.67.1-py3-none-any.whl.metadata (57 kB)\n",
      "     ---------------------------------------- 0.0/57.7 kB ? eta -:--:--\n",
      "     ---------------------------------------- 57.7/57.7 kB 3.2 MB/s eta 0:00:00\n",
      "Requirement already satisfied: colorama in c:\\users\\bruno\\appdata\\roaming\\python\\python312\\site-packages (from click->nltk) (0.4.6)\n",
      "Downloading nltk-3.9.1-py3-none-any.whl (1.5 MB)\n",
      "   ---------------------------------------- 0.0/1.5 MB ? eta -:--:--\n",
      "   -------------------- ------------------- 0.8/1.5 MB 23.4 MB/s eta 0:00:01\n",
      "   ---------------------------------------- 1.5/1.5 MB 19.2 MB/s eta 0:00:00\n",
      "Downloading regex-2024.11.6-cp312-cp312-win_amd64.whl (273 kB)\n",
      "   ---------------------------------------- 0.0/273.6 kB ? eta -:--:--\n",
      "   ---------------------------------------- 273.6/273.6 kB ? eta 0:00:00\n",
      "Downloading click-8.1.8-py3-none-any.whl (98 kB)\n",
      "   ---------------------------------------- 0.0/98.2 kB ? eta -:--:--\n",
      "   ---------------------------------------- 98.2/98.2 kB ? eta 0:00:00\n",
      "Downloading tqdm-4.67.1-py3-none-any.whl (78 kB)\n",
      "   ---------------------------------------- 0.0/78.5 kB ? eta -:--:--\n",
      "   ---------------------------------------- 78.5/78.5 kB ? eta 0:00:00\n",
      "Installing collected packages: tqdm, regex, click, nltk\n",
      "Successfully installed click-8.1.8 nltk-3.9.1 regex-2024.11.6 tqdm-4.67.1\n",
      "Note: you may need to restart the kernel to use updated packages.\n"
     ]
    },
    {
     "name": "stderr",
     "output_type": "stream",
     "text": [
      "\n",
      "[notice] A new release of pip is available: 23.2.1 -> 25.0.1\n",
      "[notice] To update, run: python.exe -m pip install --upgrade pip\n"
     ]
    }
   ],
   "source": [
    "pip install nltk"
   ]
  },
  {
   "cell_type": "code",
   "execution_count": 6,
   "metadata": {},
   "outputs": [
    {
     "name": "stderr",
     "output_type": "stream",
     "text": [
      "[nltk_data] Downloading package mac_morpho to\n",
      "[nltk_data]     C:\\Users\\bruno\\AppData\\Roaming\\nltk_data...\n",
      "[nltk_data]   Package mac_morpho is already up-to-date!\n"
     ]
    }
   ],
   "source": [
    "import nltk\n",
    "#Corpus MacMorpho - Corpus em PT BR com mais de 1MM palavras etiquetadas\n",
    "nltk.download('mac_morpho')\n",
    "tagged_sents = nltk.corpus.mac_morpho.tagged_sents()\n",
    "unigram_tagger = nltk.tag.UnigramTagger(tagged_sents)"
   ]
  },
  {
   "cell_type": "code",
   "execution_count": 28,
   "metadata": {},
   "outputs": [
    {
     "name": "stdout",
     "output_type": "stream",
     "text": [
      "[[('Jersei', 'N'), ('atinge', 'V'), ('média', 'N'), ('de', 'PREP'), ('Cr$', 'CUR'), ('1,4', 'NUM'), ('milhão', 'N'), ('em', 'PREP|+'), ('a', 'ART'), ('venda', 'N'), ('de', 'PREP|+'), ('a', 'ART'), ('Pinhal', 'NPROP'), ('em', 'PREP'), ('São', 'NPROP'), ('Paulo', 'NPROP')], [('Programe', 'V'), ('sua', 'PROADJ'), ('viagem', 'N'), ('a', 'PREP|+'), ('a', 'ART'), ('Exposição', 'NPROP'), ('Nacional', 'NPROP'), ('do', 'NPROP'), ('Zebu', 'NPROP'), (',', ','), ('que', 'PRO-KS-REL'), ('começa', 'V'), ('dia', 'N'), ('25', 'N|AP')], [('Safra', 'N'), ('recorde', 'ADJ'), ('e', 'KC'), ('disponibilidade', 'N'), ('de', 'PREP'), ('crédito', 'N'), ('ativam', 'V'), ('vendas', 'N'), ('de', 'PREP'), ('máquinas', 'N'), ('agrícolas', 'ADJ')], [('A', 'ART'), ('degradação', 'N'), ('de', 'PREP|+'), ('as', 'ART'), ('terras', 'N'), ('por', 'PREP|+'), ('o', 'ART'), ('mau', 'ADJ'), ('uso', 'N'), ('de', 'PREP|+'), ('os', 'ART'), ('solos', 'N'), ('avança', 'V'), ('em', 'PREP|+'), ('o', 'ART')], [('A', 'ART'), ('desertificação', 'N'), ('tornou', 'V'), ('crítica', 'ADJ'), ('a', 'ART'), ('produtividade', 'N'), ('de', 'PREP'), ('52', 'NUM'), ('mil', 'NUM'), ('km²', 'N'), ('em', 'PREP|+'), ('a', 'ART'), ('região', 'N')], [('Em', 'PREP|+'), ('o', 'ART'), ('dia', 'N'), ('15', 'N|AP'), (',', ','), ('Dia', 'NPROP'), ('da', 'NPROP'), ('Conservação', 'NPROP'), ('do', 'NPROP'), ('Solo', 'NPROP'), (',', ','), ('o', 'ART'), ('único', 'ADJ'), ('fato', 'N'), ('a', 'PREP'), ('festejar', 'V'), ('pode', 'VAUX'), ('ser', 'V'), ('a', 'ART'), ('Convenção', 'NPROP'), ('Internacional', 'NPROP'), ('sobre', 'NPROP'), ('Desertificação', 'NPROP')], [('A', 'ART'), ('produção', 'N'), ('brasileira', 'ADJ'), ('de', 'PREP'), ('pintos', 'N'), ('de', 'PREP'), ('corte', 'N'), ('totalizou', 'V'), (',', ','), ('em', 'PREP'), ('fevereiro', 'N'), ('último', 'ADJ'), (',', ','), ('166', 'NUM'), ('milhões', 'N'), (',', ','), ('volume', 'N'), ('6,79', 'NUM'), ('%', 'N'), ('superior', 'ADJ'), ('a', 'PREP|+'), ('o', 'ART'), ('registrado', 'N'), ('em', 'PREP'), ('fevereiro', 'N'), ('de', 'PREP'), ('93', 'N'), (',', ','), ('segundo', 'PREP'), ('dados', 'N'), ('de', 'PREP|+'), ('a', 'ART'), ('Associação', 'NPROP'), ('Brasileira', 'NPROP'), ('dos', 'NPROP'), ('Produtores', 'NPROP'), ('de', 'NPROP'), ('Pinto', 'NPROP'), ('de', 'NPROP'), ('Corte', 'NPROP'), ('(', '('), ('Apinco', 'NPROP'), (')', ')')], [('A', 'ART'), ('Apinco', 'NPROP'), ('destaca', 'V'), ('em', 'PREP'), ('seu', 'PROADJ'), ('boletim', 'N'), ('mensal', 'ADJ'), ('que', 'KS'), ('o', 'ART'), ('setor', 'N'), ('avícola', 'ADJ'), ('está', 'V'), ('otimista', 'ADJ'), ('com', 'PREP'), ('o', 'ART'), ('atual', 'ADJ'), ('programa', 'N'), ('de', 'PREP'), ('estabilização', 'N'), ('econômica', 'ADJ')], [('\"', '\"'), ('A', 'ART'), ('melhoria', 'N'), ('de', 'PREP|+'), ('o', 'ART'), ('padrão', 'N'), ('aquisitivo', 'ADJ'), ('resulta', 'V'), ('em', 'PREP'), ('maior', 'ADJ'), ('demanda', 'N'), ('de', 'PREP'), ('carne', 'N'), ('de', 'PREP'), ('frango', 'N'), ('\"', '\"')], [('O', 'ART'), ('secretário', 'N'), ('de', 'PREP|+'), ('a', 'ART'), ('agricultura', 'N'), ('paulista', 'ADJ'), (',', ','), ('Roberto', 'NPROP'), ('Rodrigues', 'NPROP'), (',', ','), ('aprovou', 'V'), ('o', 'ART'), ('pacote', 'N'), ('de', 'PREP|+'), ('o', 'ART'), ('trigo', 'N'), (',', ','), ('anunciado', 'PCP'), ('em', 'PREP|+'), ('o', 'ART'), ('final', 'N'), ('de', 'PREP'), ('março', 'N'), ('por', 'PREP|+'), ('o', 'ART'), ('governo', 'N'), ('federal', 'ADJ')]]\n"
     ]
    }
   ],
   "source": [
    "print(tagged_sents[:10])"
   ]
  },
  {
   "cell_type": "code",
   "execution_count": 33,
   "metadata": {},
   "outputs": [
    {
     "data": {
      "text/plain": [
       "[('[', '['),\n",
       " ('M', 'NPROP'),\n",
       " ('a', 'ART'),\n",
       " ('r', 'N'),\n",
       " ('i', 'NPROP'),\n",
       " ('a', 'ART'),\n",
       " (' ', None),\n",
       " ('é', 'V'),\n",
       " (' ', None),\n",
       " ('b', 'N'),\n",
       " ('o', 'ART'),\n",
       " ('n', 'N'),\n",
       " ('i', 'NPROP'),\n",
       " ('t', 'N'),\n",
       " ('a', 'ART'),\n",
       " (']', None)]"
      ]
     },
     "execution_count": 33,
     "metadata": {},
     "output_type": "execute_result"
    }
   ],
   "source": [
    "texto = \"[Maria é bonita]\"\n",
    "unigram_tagger.tag(texto)"
   ]
  }
 ],
 "metadata": {
  "kernelspec": {
   "display_name": "Python 3",
   "language": "python",
   "name": "python3"
  },
  "language_info": {
   "codemirror_mode": {
    "name": "ipython",
    "version": 3
   },
   "file_extension": ".py",
   "mimetype": "text/x-python",
   "name": "python",
   "nbconvert_exporter": "python",
   "pygments_lexer": "ipython3",
   "version": "3.12.0"
  }
 },
 "nbformat": 4,
 "nbformat_minor": 2
}
